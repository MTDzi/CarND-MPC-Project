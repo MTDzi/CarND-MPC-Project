{
 "cells": [
  {
   "cell_type": "markdown",
   "metadata": {},
   "source": [
    "## The Model\n",
    "\n",
    "The car's state is described using **6** variables:\n",
    "* $x$ and $y$ (position);\n",
    "* $v$ (speed);\n",
    "* $\\psi$ (orientation);\n",
    "* $cte$ (cross-track error);\n",
    "* $e\\psi$ (psi error).\n",
    "\n",
    "The evolution of the state is expressed in the lectures by the following formulas:\n",
    "\n",
    "![evolution](img/model.png)\n",
    "\n",
    "and it's worth noting that this is a kinematic model (one discarding dynamical properties of the vehicle).\n",
    "\n",
    "The actuators -- steering angle $\\delta$ and throttle $a$ -- are constrained as in the lectures so that $\\delta\\in [ -25, 25 ]$ and $a\\in [ -1, 1 ]$.\n",
    "\n",
    "The error $J$ is composed of 7 non-constraint terms (lines 59--76 in `MPC.cpp`):\n",
    "* the part of the cost based on the reference state (3 terms);\n",
    "* minimizing the use of actuators (2 terms);\n",
    "* minimizing the value gap between sequential actuations (2 terms).\n",
    "\n",
    "and 6 constraints (implementing the 6 equations describing the evolution of the system) per future step (of which there's `N`).\n",
    "\n",
    "\n",
    "## Timestep Length and Elapsed Duration (N & dt)\n",
    "\n",
    "Mentioned above was the number of future steps (states) considered by the evolution equations (`N`), and `dt` is the time increment between the state.\n",
    "\n",
    "With higher `N` the evaluation takes longer (computationally more expensive), but it allows for a better prediction. The time increment, `dt`, controls how accurate the evaluation will be. However, a lower `dt` requires a higher `N` and can thus be more computationally expensive.\n",
    "\n",
    "\n",
    "## Polynomial Fitting and MPC Preprocessing\n",
    "\n",
    "Before running `MPC::Solve`, I'm converting the points into the CoG of the car coordinate system. Then, I fit a polynomial of order 3 to the points, and extract the coefficients of the polynomial. With that, I can calculate the $cte$ and $e\\psi$.\n",
    "\n",
    "\n",
    "## Model Predictive Control with Latency\n",
    "\n",
    "I've corrected for the latency by calculating `v_lat` and `psi_lat` (lines 100 and 101 in `main.cpp`) variables which correspond to $v$ and $\\psi$ as if the time was shifted by the latency value (100 ms, controlled by the `LATENCY` global variable)."
   ]
  },
  {
   "cell_type": "code",
   "execution_count": null,
   "metadata": {
    "collapsed": true
   },
   "outputs": [],
   "source": []
  }
 ],
 "metadata": {
  "kernelspec": {
   "display_name": "Python 2",
   "language": "python",
   "name": "python2"
  },
  "language_info": {
   "codemirror_mode": {
    "name": "ipython",
    "version": 2
   },
   "file_extension": ".py",
   "mimetype": "text/x-python",
   "name": "python",
   "nbconvert_exporter": "python",
   "pygments_lexer": "ipython2",
   "version": "2.7.12"
  }
 },
 "nbformat": 4,
 "nbformat_minor": 2
}
